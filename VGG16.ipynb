{
 "cells": [
  {
   "cell_type": "markdown",
   "metadata": {},
   "source": [
    "**CSI 5139 Assignment 3**\n",
    "\n",
    "Section 2 of this assignment explores transfer learning with VGG16 model for classification task of 68 textures."
   ]
  },
  {
   "cell_type": "markdown",
   "metadata": {},
   "source": [
    "# Setup"
   ]
  },
  {
   "cell_type": "code",
   "execution_count": 1,
   "metadata": {},
   "outputs": [
    {
     "name": "stderr",
     "output_type": "stream",
     "text": [
      "C:\\Users\\Sophie\\Anaconda3\\lib\\site-packages\\h5py\\__init__.py:36: FutureWarning: Conversion of the second argument of issubdtype from `float` to `np.floating` is deprecated. In future, it will be treated as `np.float64 == np.dtype(float).type`.\n",
      "  from ._conv import register_converters as _register_converters\n"
     ]
    }
   ],
   "source": [
    "import os\n",
    "from shutil import copy\n",
    "\n",
    "import tensorflow as tf\n",
    "import tensorflow.keras\n",
    "from tensorflow.keras.preprocessing.image import ImageDataGenerator\n",
    "from tensorflow.keras.models import Sequential\n",
    "from tensorflow.keras.layers import Dense, Dropout, Flatten, MaxPooling2D, Conv2D, Input\n",
    "from tensorflow.keras.optimizers import RMSprop, Adagrad, Adam, SGD\n",
    "from tensorflow.keras.applications import VGG16\n",
    "from tensorflow.keras.models import load_model, Model\n",
    "\n",
    "import matplotlib\n",
    "import matplotlib.pyplot as plt\n",
    "import numpy as np\n",
    "\n",
    "from sklearn.metrics import confusion_matrix\n",
    "\n",
    "from pprint import pprint"
   ]
  },
  {
   "cell_type": "markdown",
   "metadata": {},
   "source": [
    "# VGG-16"
   ]
  },
  {
   "cell_type": "code",
   "execution_count": 66,
   "metadata": {},
   "outputs": [
    {
     "name": "stdout",
     "output_type": "stream",
     "text": [
      "Found 10880 images belonging to 68 classes.\n",
      "Found 1360 images belonging to 68 classes.\n",
      "Train generator length:  340\n",
      "Test generator length:  340\n",
      "Target size:  (128, 128)\n"
     ]
    }
   ],
   "source": [
    "datagen = ImageDataGenerator(rescale=1./255)\n",
    "\n",
    "\n",
    "train_batchsize = 32 # 160 images per 68 classes\n",
    "test_batchsize = 4 # 20 images per 68 classes\n",
    "\n",
    "train_generator = datagen.flow_from_directory(\n",
    "    directory=r\"C:/Users/Sophie/Documents/GitHub/CSI5139/csi5139_a2-Copy/Outex-TC-00030/train/\",\n",
    "    target_size=(128, 128),\n",
    "    color_mode=\"rgb\",\n",
    "    batch_size=train_batchsize,\n",
    "    class_mode=\"categorical\",\n",
    "    shuffle=True,\n",
    "    seed=42\n",
    ")\n",
    "\n",
    "test_generator = datagen.flow_from_directory(\n",
    "    directory=r\"C:/Users/Sophie/Documents/GitHub/CSI5139/csi5139_a2-Copy/Outex-TC-00030/test/\",\n",
    "    target_size=(128, 128),\n",
    "    color_mode=\"rgb\",\n",
    "    batch_size=test_batchsize,\n",
    "    class_mode=\"categorical\",\n",
    "    shuffle=True,\n",
    "    seed=42\n",
    ")\n",
    "\n",
    "print(\"Train generator length: \", len(train_generator))\n",
    "print(\"Test generator length: \", len(test_generator))\n",
    "print(\"Target size: \", train_generator.target_size)\n",
    "#print(\"Generator indices: \", train_generator.class_indices)\n",
    "#print(\"Generator filenames:\", train_generator.filenames[:10])"
   ]
  },
  {
   "cell_type": "markdown",
   "metadata": {},
   "source": [
    "#### Model"
   ]
  },
  {
   "cell_type": "code",
   "execution_count": 93,
   "metadata": {},
   "outputs": [
    {
     "name": "stdout",
     "output_type": "stream",
     "text": [
      "_________________________________________________________________\n",
      "Layer (type)                 Output Shape              Param #   \n",
      "=================================================================\n",
      "input_36 (InputLayer)        (None, 128, 128, 3)       0         \n",
      "_________________________________________________________________\n",
      "block1_conv1 (Conv2D)        (None, 128, 128, 64)      1792      \n",
      "_________________________________________________________________\n",
      "block1_conv2 (Conv2D)        (None, 128, 128, 64)      36928     \n",
      "_________________________________________________________________\n",
      "block1_pool (MaxPooling2D)   (None, 64, 64, 64)        0         \n",
      "_________________________________________________________________\n",
      "block2_conv1 (Conv2D)        (None, 64, 64, 128)       73856     \n",
      "_________________________________________________________________\n",
      "block2_conv2 (Conv2D)        (None, 64, 64, 128)       147584    \n",
      "_________________________________________________________________\n",
      "block2_pool (MaxPooling2D)   (None, 32, 32, 128)       0         \n",
      "_________________________________________________________________\n",
      "block3_conv1 (Conv2D)        (None, 32, 32, 256)       295168    \n",
      "_________________________________________________________________\n",
      "block3_conv2 (Conv2D)        (None, 32, 32, 256)       590080    \n",
      "_________________________________________________________________\n",
      "block3_conv3 (Conv2D)        (None, 32, 32, 256)       590080    \n",
      "_________________________________________________________________\n",
      "block3_pool (MaxPooling2D)   (None, 16, 16, 256)       0         \n",
      "_________________________________________________________________\n",
      "block4_conv1 (Conv2D)        (None, 16, 16, 512)       1180160   \n",
      "_________________________________________________________________\n",
      "block4_conv2 (Conv2D)        (None, 16, 16, 512)       2359808   \n",
      "_________________________________________________________________\n",
      "block4_conv3 (Conv2D)        (None, 16, 16, 512)       2359808   \n",
      "_________________________________________________________________\n",
      "block4_pool (MaxPooling2D)   (None, 8, 8, 512)         0         \n",
      "_________________________________________________________________\n",
      "block5_conv1 (Conv2D)        (None, 8, 8, 512)         2359808   \n",
      "_________________________________________________________________\n",
      "block5_conv2 (Conv2D)        (None, 8, 8, 512)         2359808   \n",
      "_________________________________________________________________\n",
      "block5_conv3 (Conv2D)        (None, 8, 8, 512)         2359808   \n",
      "_________________________________________________________________\n",
      "block5_pool (MaxPooling2D)   (None, 4, 4, 512)         0         \n",
      "=================================================================\n",
      "Total params: 14,714,688\n",
      "Trainable params: 14,714,688\n",
      "Non-trainable params: 0\n",
      "_________________________________________________________________\n",
      "<tensorflow.python.keras.engine.input_layer.InputLayer object at 0x000001F8E75A6198> False\n",
      "<tensorflow.python.keras.layers.convolutional.Conv2D object at 0x000001F8E75A6630> False\n",
      "<tensorflow.python.keras.layers.convolutional.Conv2D object at 0x000001F8E92A0978> False\n",
      "<tensorflow.python.keras.layers.pooling.MaxPooling2D object at 0x000001F8E75A6400> False\n",
      "<tensorflow.python.keras.layers.convolutional.Conv2D object at 0x000001F8E75A6E48> False\n",
      "<tensorflow.python.keras.layers.convolutional.Conv2D object at 0x000001F8E92BD5F8> False\n",
      "<tensorflow.python.keras.layers.pooling.MaxPooling2D object at 0x000001F8E9264A58> False\n",
      "<tensorflow.python.keras.layers.convolutional.Conv2D object at 0x000001F8E9268E10> False\n",
      "<tensorflow.python.keras.layers.convolutional.Conv2D object at 0x000001F8E9307A20> False\n",
      "<tensorflow.python.keras.layers.convolutional.Conv2D object at 0x000001F8E933F7B8> False\n",
      "<tensorflow.python.keras.layers.pooling.MaxPooling2D object at 0x000001F8E93704A8> False\n",
      "<tensorflow.python.keras.layers.convolutional.Conv2D object at 0x000001F8E9364EF0> False\n",
      "<tensorflow.python.keras.layers.convolutional.Conv2D object at 0x000001F8E9395F28> False\n",
      "<tensorflow.python.keras.layers.convolutional.Conv2D object at 0x000001F8E93C87F0> False\n",
      "<tensorflow.python.keras.layers.pooling.MaxPooling2D object at 0x000001F8E93F4908> False\n",
      "<tensorflow.python.keras.layers.convolutional.Conv2D object at 0x000001F8E93F45C0> False\n",
      "<tensorflow.python.keras.layers.convolutional.Conv2D object at 0x000001F8E9433D30> False\n",
      "<tensorflow.python.keras.layers.convolutional.Conv2D object at 0x000001F8E945BC50> False\n",
      "<tensorflow.python.keras.layers.pooling.MaxPooling2D object at 0x000001F8E9489860> False\n",
      "<tensorflow.python.keras.layers.core.Flatten object at 0x000001F8F3273F28> True\n",
      "<tensorflow.python.keras.layers.core.Dense object at 0x000001F8F32A9DD8> True\n",
      "<tensorflow.python.keras.layers.core.Dense object at 0x000001F8F3288978> True\n",
      "_________________________________________________________________\n",
      "Layer (type)                 Output Shape              Param #   \n",
      "=================================================================\n",
      "input_36 (InputLayer)        (None, 128, 128, 3)       0         \n",
      "_________________________________________________________________\n",
      "block1_conv1 (Conv2D)        (None, 128, 128, 64)      1792      \n",
      "_________________________________________________________________\n",
      "block1_conv2 (Conv2D)        (None, 128, 128, 64)      36928     \n",
      "_________________________________________________________________\n",
      "block1_pool (MaxPooling2D)   (None, 64, 64, 64)        0         \n",
      "_________________________________________________________________\n",
      "block2_conv1 (Conv2D)        (None, 64, 64, 128)       73856     \n",
      "_________________________________________________________________\n",
      "block2_conv2 (Conv2D)        (None, 64, 64, 128)       147584    \n",
      "_________________________________________________________________\n",
      "block2_pool (MaxPooling2D)   (None, 32, 32, 128)       0         \n",
      "_________________________________________________________________\n",
      "block3_conv1 (Conv2D)        (None, 32, 32, 256)       295168    \n",
      "_________________________________________________________________\n",
      "block3_conv2 (Conv2D)        (None, 32, 32, 256)       590080    \n",
      "_________________________________________________________________\n",
      "block3_conv3 (Conv2D)        (None, 32, 32, 256)       590080    \n",
      "_________________________________________________________________\n",
      "block3_pool (MaxPooling2D)   (None, 16, 16, 256)       0         \n",
      "_________________________________________________________________\n",
      "block4_conv1 (Conv2D)        (None, 16, 16, 512)       1180160   \n",
      "_________________________________________________________________\n",
      "block4_conv2 (Conv2D)        (None, 16, 16, 512)       2359808   \n",
      "_________________________________________________________________\n",
      "block4_conv3 (Conv2D)        (None, 16, 16, 512)       2359808   \n",
      "_________________________________________________________________\n",
      "block4_pool (MaxPooling2D)   (None, 8, 8, 512)         0         \n",
      "_________________________________________________________________\n",
      "block5_conv1 (Conv2D)        (None, 8, 8, 512)         2359808   \n",
      "_________________________________________________________________\n",
      "block5_conv2 (Conv2D)        (None, 8, 8, 512)         2359808   \n",
      "_________________________________________________________________\n",
      "block5_conv3 (Conv2D)        (None, 8, 8, 512)         2359808   \n",
      "_________________________________________________________________\n",
      "block5_pool (MaxPooling2D)   (None, 4, 4, 512)         0         \n",
      "_________________________________________________________________\n",
      "flatten_31 (Flatten)         (None, 8192)              0         \n",
      "_________________________________________________________________\n",
      "dense_62 (Dense)             (None, 512)               4194816   \n",
      "_________________________________________________________________\n",
      "dense_63 (Dense)             (None, 68)                34884     \n",
      "=================================================================\n",
      "Total params: 18,944,388\n",
      "Trainable params: 4,229,700\n",
      "Non-trainable params: 14,714,688\n",
      "_________________________________________________________________\n"
     ]
    }
   ],
   "source": [
    "epochs = 3\n",
    "\n",
    "vgg_conv = VGG16(weights='imagenet', include_top=False, input_shape=(128, 128, 3))\n",
    "vgg_conv.summary()\n",
    "\n",
    "for layer in vgg_conv.layers:\n",
    "    layer.trainable = False\n",
    "\n",
    "# last layers output\n",
    "x = vgg_conv.layers[-1].output\n",
    "# Flatten as before\n",
    "x = Flatten()(x)\n",
    "x = Dense(512, activation='relu')(x)\n",
    "x = Dense(68, activation='softmax')(x)\n",
    "\n",
    "vgg_conv_transfer = Model(inputs=vgg_conv.input, outputs=x)\n",
    "\n",
    "for layer in vgg_conv_transfer.layers:\n",
    "    print(layer, layer.trainable)\n",
    "\n",
    "vgg_conv_transfer.summary()\n",
    "\n",
    "rmsprop = RMSprop()\n",
    "sgd = SGD()\n",
    "\n",
    "cp_callback = tensorflow.keras.callbacks.ModelCheckpoint(filepath=\"./runs/vgg16.ckpt\", save_weights_only=True, verbose=1, save_best_only=True)\n",
    "\n",
    "vgg_conv_transfer.compile(optimizer=sgd, loss='categorical_crossentropy', metrics=['accuracy'])"
   ]
  },
  {
   "cell_type": "markdown",
   "metadata": {},
   "source": [
    "#### Initial training"
   ]
  },
  {
   "cell_type": "code",
   "execution_count": 76,
   "metadata": {},
   "outputs": [
    {
     "name": "stdout",
     "output_type": "stream",
     "text": [
      "Epoch 1/3\n",
      "339/340 [============================>.] - ETA: 6s - loss: 3.1522 - acc: 0.6645 \n",
      "Epoch 00001: val_loss improved from inf to 1.40600, saving model to ./runs/vgg16.ckpt\n",
      "340/340 [==============================] - 2321s 7s/step - loss: 3.1468 - acc: 0.6649 - val_loss: 1.4060 - val_acc: 0.7654\n",
      "Epoch 2/3\n",
      "339/340 [============================>.] - ETA: 5s - loss: 0.5326 - acc: 0.8361 \n",
      "Epoch 00002: val_loss improved from 1.40600 to 0.38671, saving model to ./runs/vgg16.ckpt\n",
      "340/340 [==============================] - 1985s 6s/step - loss: 0.5322 - acc: 0.8362 - val_loss: 0.3867 - val_acc: 0.8449\n",
      "Epoch 3/3\n",
      "339/340 [============================>.] - ETA: 5s - loss: 0.3703 - acc: 0.8604 \n",
      "Epoch 00003: val_loss did not improve from 0.38671\n",
      "340/340 [==============================] - 2048s 6s/step - loss: 0.3704 - acc: 0.8605 - val_loss: 0.3881 - val_acc: 0.8544\n"
     ]
    }
   ],
   "source": [
    "hist_vgg16 = vgg_conv_transfer.fit_generator(\n",
    "        train_generator,\n",
    "        steps_per_epoch=(train_generator.samples/train_generator.batch_size),\n",
    "        epochs=epochs,\n",
    "        validation_data=test_generator,\n",
    "        validation_steps=(test_generator.samples/test_generator.batch_size),\n",
    "        verbose=1,\n",
    "        callbacks = [cp_callback])"
   ]
  },
  {
   "cell_type": "code",
   "execution_count": 77,
   "metadata": {},
   "outputs": [],
   "source": [
    "# save history\n",
    "hist_vgg16 = hist_vgg16.history\n",
    "with open('./runs/vgg16.hist', 'w', encoding=\"utf-8\") as fout:\n",
    "    pprint(hist_vgg16, fout)"
   ]
  },
  {
   "cell_type": "markdown",
   "metadata": {},
   "source": [
    "#### Train more layers"
   ]
  },
  {
   "cell_type": "code",
   "execution_count": 108,
   "metadata": {},
   "outputs": [
    {
     "name": "stdout",
     "output_type": "stream",
     "text": [
      "<tensorflow.python.keras.engine.input_layer.InputLayer object at 0x000001F8E75A6198> False\n",
      "<tensorflow.python.keras.layers.convolutional.Conv2D object at 0x000001F8E75A6630> False\n",
      "<tensorflow.python.keras.layers.convolutional.Conv2D object at 0x000001F8E92A0978> False\n",
      "<tensorflow.python.keras.layers.pooling.MaxPooling2D object at 0x000001F8E75A6400> False\n",
      "<tensorflow.python.keras.layers.convolutional.Conv2D object at 0x000001F8E75A6E48> False\n",
      "<tensorflow.python.keras.layers.convolutional.Conv2D object at 0x000001F8E92BD5F8> False\n",
      "<tensorflow.python.keras.layers.pooling.MaxPooling2D object at 0x000001F8E9264A58> False\n",
      "<tensorflow.python.keras.layers.convolutional.Conv2D object at 0x000001F8E9268E10> False\n",
      "<tensorflow.python.keras.layers.convolutional.Conv2D object at 0x000001F8E9307A20> False\n",
      "<tensorflow.python.keras.layers.convolutional.Conv2D object at 0x000001F8E933F7B8> False\n",
      "<tensorflow.python.keras.layers.pooling.MaxPooling2D object at 0x000001F8E93704A8> False\n",
      "<tensorflow.python.keras.layers.convolutional.Conv2D object at 0x000001F8E9364EF0> False\n",
      "<tensorflow.python.keras.layers.convolutional.Conv2D object at 0x000001F8E9395F28> False\n",
      "<tensorflow.python.keras.layers.convolutional.Conv2D object at 0x000001F8E93C87F0> False\n",
      "<tensorflow.python.keras.layers.pooling.MaxPooling2D object at 0x000001F8E93F4908> False\n",
      "<tensorflow.python.keras.layers.convolutional.Conv2D object at 0x000001F8E93F45C0> True\n",
      "<tensorflow.python.keras.layers.convolutional.Conv2D object at 0x000001F8E9433D30> True\n",
      "<tensorflow.python.keras.layers.convolutional.Conv2D object at 0x000001F8E945BC50> True\n",
      "<tensorflow.python.keras.layers.pooling.MaxPooling2D object at 0x000001F8E9489860> True\n",
      "<tensorflow.python.keras.layers.core.Flatten object at 0x000001F8F3273F28> True\n",
      "<tensorflow.python.keras.layers.core.Dense object at 0x000001F8F32A9DD8> True\n",
      "<tensorflow.python.keras.layers.core.Dense object at 0x000001F8F3288978> True\n"
     ]
    }
   ],
   "source": [
    "# continue training model\n",
    "vgg_conv_transfer.load_weights(\"./runs/vgg16.ckpt\")\n",
    "\n",
    "# higher level layers set trainable to true\n",
    "vgg_conv_transfer.layers[-4].trainable = True\n",
    "vgg_conv_transfer.layers[-5].trainable = True\n",
    "vgg_conv_transfer.layers[-6].trainable = True\n",
    "vgg_conv_transfer.layers[-7].trainable = True\n",
    "\n",
    "for layer in vgg_conv_transfer.layers:\n",
    "    print(layer, layer.trainable)\n",
    "\n",
    "sgd = SGD(0.0005)\n",
    "#rmsprop = RMSprop(1e-4)\n",
    "vgg_conv_transfer.compile(optimizer=sgd, loss='categorical_crossentropy', metrics=['accuracy'])"
   ]
  },
  {
   "cell_type": "code",
   "execution_count": 109,
   "metadata": {},
   "outputs": [
    {
     "name": "stdout",
     "output_type": "stream",
     "text": [
      "Epoch 1/3\n",
      "339/340 [============================>.] - ETA: 6s - loss: 0.2681 - acc: 0.8949 \n",
      "Epoch 00001: val_loss improved from inf to 0.28065, saving model to ./runs/vgg16.ckpt\n",
      "340/340 [==============================] - 2688s 8s/step - loss: 0.2679 - acc: 0.8950 - val_loss: 0.2806 - val_acc: 0.8934\n",
      "Epoch 2/3\n",
      "339/340 [============================>.] - ETA: 10s - loss: 0.2219 - acc: 0.9137\n",
      "Epoch 00002: val_loss improved from 0.28065 to 0.27699, saving model to ./runs/vgg16.ckpt\n",
      "340/340 [==============================] - 4054s 12s/step - loss: 0.2216 - acc: 0.9138 - val_loss: 0.2770 - val_acc: 0.8941\n",
      "Epoch 3/3\n",
      "339/340 [============================>.] - ETA: 10s - loss: 0.1934 - acc: 0.9247\n",
      "Epoch 00003: val_loss improved from 0.27699 to 0.26269, saving model to ./runs/vgg16.ckpt\n",
      "340/340 [==============================] - 4042s 12s/step - loss: 0.1933 - acc: 0.9247 - val_loss: 0.2627 - val_acc: 0.8919\n"
     ]
    }
   ],
   "source": [
    "hist_vgg16 = vgg_conv_transfer.fit_generator(\n",
    "        train_generator,\n",
    "        steps_per_epoch=(train_generator.samples/train_generator.batch_size),\n",
    "        epochs=epochs,\n",
    "        validation_data=test_generator,\n",
    "        validation_steps=(test_generator.samples/test_generator.batch_size),\n",
    "        verbose=1,\n",
    "        callbacks = [cp_callback])"
   ]
  }
 ],
 "metadata": {
  "kernelspec": {
   "display_name": "Python 3",
   "language": "python",
   "name": "python3"
  },
  "language_info": {
   "codemirror_mode": {
    "name": "ipython",
    "version": 3
   },
   "file_extension": ".py",
   "mimetype": "text/x-python",
   "name": "python",
   "nbconvert_exporter": "python",
   "pygments_lexer": "ipython3",
   "version": "3.6.5"
  }
 },
 "nbformat": 4,
 "nbformat_minor": 2
}
